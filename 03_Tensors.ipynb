{
  "nbformat": 4,
  "nbformat_minor": 0,
  "metadata": {
    "colab": {
      "name": "03_Tensors.ipynb",
      "provenance": [],
      "authorship_tag": "ABX9TyNCrRtR8Wu3YYHRR6sP8nRo",
      "include_colab_link": true
    },
    "kernelspec": {
      "name": "python3",
      "display_name": "Python 3"
    }
  },
  "cells": [
    {
      "cell_type": "markdown",
      "metadata": {
        "id": "view-in-github",
        "colab_type": "text"
      },
      "source": [
        "<a href=\"https://colab.research.google.com/github/RickyMacharm/PyTorch/blob/master/03_Tensors.ipynb\" target=\"_parent\"><img src=\"https://colab.research.google.com/assets/colab-badge.svg\" alt=\"Open In Colab\"/></a>"
      ]
    },
    {
      "cell_type": "markdown",
      "metadata": {
        "id": "mrc1lw_7HzjF",
        "colab_type": "text"
      },
      "source": [
        "## **Tensors in PyTorch**\n",
        "While working with tensors and dealing with neural networks, we often need to go\n",
        "through and rearrange data in the tensors so that the dimensions of the tensors fit the needs\n",
        "of the architecture. In this section, we will explore common rearrangement and reshaping\n",
        "techniques in PyTorch.\n",
        "\n",
        "**The `.reshape()` method:** `.reshape(a, b)` returns a new tensor with the same\n",
        "data as the original tensor with size (a, b) as it copies the data to another part\n",
        "of memory; `.reshape()` can operate on both contiguous and noncontiguous\n",
        "tensors, and may return a copy or a view of the original tensor."
      ]
    },
    {
      "cell_type": "code",
      "metadata": {
        "id": "R_wHvglBHY-o",
        "colab_type": "code",
        "colab": {
          "base_uri": "https://localhost:8080/",
          "height": 34
        },
        "outputId": "ad11c686-a3ee-4c91-cd48-9526080d9934"
      },
      "source": [
        "import torch\n",
        "# We create a tensor we call a\n",
        "a = torch.Tensor([1, 2, 3, 4]); a"
      ],
      "execution_count": 3,
      "outputs": [
        {
          "output_type": "execute_result",
          "data": {
            "text/plain": [
              "tensor([1., 2., 3., 4.])"
            ]
          },
          "metadata": {
            "tags": []
          },
          "execution_count": 3
        }
      ]
    },
    {
      "cell_type": "code",
      "metadata": {
        "id": "Jyl9xfuGIX0n",
        "colab_type": "code",
        "colab": {
          "base_uri": "https://localhost:8080/",
          "height": 51
        },
        "outputId": "8eb7460b-4e7b-4e94-ea23-874990b8470f"
      },
      "source": [
        "torch.reshape(a, (2, 2))"
      ],
      "execution_count": 4,
      "outputs": [
        {
          "output_type": "execute_result",
          "data": {
            "text/plain": [
              "tensor([[1., 2.],\n",
              "        [3., 4.]])"
            ]
          },
          "metadata": {
            "tags": []
          },
          "execution_count": 4
        }
      ]
    },
    {
      "cell_type": "code",
      "metadata": {
        "id": "9jVEnDL_JWYG",
        "colab_type": "code",
        "colab": {
          "base_uri": "https://localhost:8080/",
          "height": 34
        },
        "outputId": "bb4f5166-e504-40b2-9c5a-6a0d67655cd6"
      },
      "source": [
        "a = torch.Tensor([1, 2, 3, 4, 5, 6])\n",
        "a.shape, a"
      ],
      "execution_count": 8,
      "outputs": [
        {
          "output_type": "execute_result",
          "data": {
            "text/plain": [
              "(torch.Size([6]), tensor([1., 2., 3., 4., 5., 6.]))"
            ]
          },
          "metadata": {
            "tags": []
          },
          "execution_count": 8
        }
      ]
    },
    {
      "cell_type": "markdown",
      "metadata": {
        "id": "U2QuHrCnJgfz",
        "colab_type": "text"
      },
      "source": [
        "**The `.resize()` method:** `.resize_(a, b)` returns the same tensor without\n",
        "creating a copy with the new given shape. But we should keep in mind that, if\n",
        "the new shape results in fewer elements than the original tensor, then it won't\n",
        "throw any error, and some elements will be removed from the tensor but not\n",
        "from memory. If the new shape results in more elements than the original tensor,\n",
        "new elements will be uninitialized in memory without throwing any error."
      ]
    },
    {
      "cell_type": "code",
      "metadata": {
        "id": "VYh0K__SJf25",
        "colab_type": "code",
        "colab": {
          "base_uri": "https://localhost:8080/",
          "height": 51
        },
        "outputId": "3dc7a29d-2900-4422-e80e-10ae73e038db"
      },
      "source": [
        "a.resize_((2, 2))"
      ],
      "execution_count": 9,
      "outputs": [
        {
          "output_type": "execute_result",
          "data": {
            "text/plain": [
              "tensor([[1., 2.],\n",
              "        [3., 4.]])"
            ]
          },
          "metadata": {
            "tags": []
          },
          "execution_count": 9
        }
      ]
    },
    {
      "cell_type": "markdown",
      "metadata": {
        "id": "fC-hQQaaKJVu",
        "colab_type": "text"
      },
      "source": [
        "The most common method is `view()` method\n",
        "\n",
        "**The .view() method:** `.view(a, b)` will return a new tensor with the same\n",
        "data as weights with size (a, b); `.view()` can only operate on a contiguous tensor\n",
        "and returns the same storage as the input."
      ]
    },
    {
      "cell_type": "code",
      "metadata": {
        "id": "ejp7yO3rJpfW",
        "colab_type": "code",
        "colab": {
          "base_uri": "https://localhost:8080/",
          "height": 51
        },
        "outputId": "983a90f7-b435-41bd-cb41-d16766984f76"
      },
      "source": [
        "a = torch.Tensor([1, 2, 3, 4, 5, 6])\n",
        "a.view((2, 3))"
      ],
      "execution_count": 10,
      "outputs": [
        {
          "output_type": "execute_result",
          "data": {
            "text/plain": [
              "tensor([[1., 2., 3.],\n",
              "        [4., 5., 6.]])"
            ]
          },
          "metadata": {
            "tags": []
          },
          "execution_count": 10
        }
      ]
    },
    {
      "cell_type": "markdown",
      "metadata": {
        "id": "ZnH-_PpSKXuP",
        "colab_type": "text"
      },
      "source": [
        "With the `view()` method, you can choose not to mention one of the dimensions\n",
        "and arrange the rest of them, and PyTorch will calculate the missing dimension"
      ]
    },
    {
      "cell_type": "code",
      "metadata": {
        "id": "Rssutv3kKV5g",
        "colab_type": "code",
        "colab": {
          "base_uri": "https://localhost:8080/",
          "height": 51
        },
        "outputId": "ae66c174-8a6b-4b5e-b79a-ca9990948c99"
      },
      "source": [
        "a.view((2, -1))"
      ],
      "execution_count": 11,
      "outputs": [
        {
          "output_type": "execute_result",
          "data": {
            "text/plain": [
              "tensor([[1., 2., 3.],\n",
              "        [4., 5., 6.]])"
            ]
          },
          "metadata": {
            "tags": []
          },
          "execution_count": 11
        }
      ]
    },
    {
      "cell_type": "code",
      "metadata": {
        "id": "oTpOVChHKlEx",
        "colab_type": "code",
        "colab": {
          "base_uri": "https://localhost:8080/",
          "height": 68
        },
        "outputId": "1903489a-5625-4a79-c390-1418717ab66d"
      },
      "source": [
        "a = [[1,2,3,4],[5,2,4,7],[6, 4, 2, 5]]\n",
        "b = torch.Tensor(a);b"
      ],
      "execution_count": 16,
      "outputs": [
        {
          "output_type": "execute_result",
          "data": {
            "text/plain": [
              "tensor([[1., 2., 3., 4.],\n",
              "        [5., 2., 4., 7.],\n",
              "        [6., 4., 2., 5.]])"
            ]
          },
          "metadata": {
            "tags": []
          },
          "execution_count": 16
        }
      ]
    },
    {
      "cell_type": "code",
      "metadata": {
        "id": "KjuiU9zqLIri",
        "colab_type": "code",
        "colab": {
          "base_uri": "https://localhost:8080/",
          "height": 34
        },
        "outputId": "dae9e0ae-002f-4e27-ec32-d1756910a184"
      },
      "source": [
        "b.shape"
      ],
      "execution_count": 17,
      "outputs": [
        {
          "output_type": "execute_result",
          "data": {
            "text/plain": [
              "torch.Size([3, 4])"
            ]
          },
          "metadata": {
            "tags": []
          },
          "execution_count": 17
        }
      ]
    },
    {
      "cell_type": "code",
      "metadata": {
        "id": "q1YYQ9tQK3FS",
        "colab_type": "code",
        "colab": {
          "base_uri": "https://localhost:8080/",
          "height": 85
        },
        "outputId": "511fa440-cf9e-40a5-fd1e-f4290355553b"
      },
      "source": [
        "torch.reshape(b, (4, 3))"
      ],
      "execution_count": 18,
      "outputs": [
        {
          "output_type": "execute_result",
          "data": {
            "text/plain": [
              "tensor([[1., 2., 3.],\n",
              "        [4., 5., 2.],\n",
              "        [4., 7., 6.],\n",
              "        [4., 2., 5.]])"
            ]
          },
          "metadata": {
            "tags": []
          },
          "execution_count": 18
        }
      ]
    },
    {
      "cell_type": "code",
      "metadata": {
        "id": "7dZ66eWqLcbe",
        "colab_type": "code",
        "colab": {
          "base_uri": "https://localhost:8080/",
          "height": 51
        },
        "outputId": "20197111-5544-46fa-97f4-a2432b9a251e"
      },
      "source": [
        "b.view((2, -1))"
      ],
      "execution_count": 20,
      "outputs": [
        {
          "output_type": "execute_result",
          "data": {
            "text/plain": [
              "tensor([[1., 2., 3., 4., 5., 2.],\n",
              "        [4., 7., 6., 4., 2., 5.]])"
            ]
          },
          "metadata": {
            "tags": []
          },
          "execution_count": 20
        }
      ]
    },
    {
      "cell_type": "code",
      "metadata": {
        "id": "UcWpHKUWL1UJ",
        "colab_type": "code",
        "colab": {
          "base_uri": "https://localhost:8080/",
          "height": 68
        },
        "outputId": "2637362e-285f-4870-afa5-375bafc44e49"
      },
      "source": [
        "b"
      ],
      "execution_count": 21,
      "outputs": [
        {
          "output_type": "execute_result",
          "data": {
            "text/plain": [
              "tensor([[1., 2., 3., 4.],\n",
              "        [5., 2., 4., 7.],\n",
              "        [6., 4., 2., 5.]])"
            ]
          },
          "metadata": {
            "tags": []
          },
          "execution_count": 21
        }
      ]
    },
    {
      "cell_type": "code",
      "metadata": {
        "id": "CWEZ6zxWMBPF",
        "colab_type": "code",
        "colab": {
          "base_uri": "https://localhost:8080/",
          "height": 119
        },
        "outputId": "789255b2-4e35-4104-bb32-b9044763de3c"
      },
      "source": [
        "b.view((6, -1))"
      ],
      "execution_count": 22,
      "outputs": [
        {
          "output_type": "execute_result",
          "data": {
            "text/plain": [
              "tensor([[1., 2.],\n",
              "        [3., 4.],\n",
              "        [5., 2.],\n",
              "        [4., 7.],\n",
              "        [6., 4.],\n",
              "        [2., 5.]])"
            ]
          },
          "metadata": {
            "tags": []
          },
          "execution_count": 22
        }
      ]
    },
    {
      "cell_type": "code",
      "metadata": {
        "id": "_YGo5tKmNTyr",
        "colab_type": "code",
        "colab": {
          "base_uri": "https://localhost:8080/",
          "height": 221
        },
        "outputId": "982d096f-63a3-4bba-c036-69c3cc815dae"
      },
      "source": [
        "b.view((12, -1))"
      ],
      "execution_count": 23,
      "outputs": [
        {
          "output_type": "execute_result",
          "data": {
            "text/plain": [
              "tensor([[1.],\n",
              "        [2.],\n",
              "        [3.],\n",
              "        [4.],\n",
              "        [5.],\n",
              "        [2.],\n",
              "        [4.],\n",
              "        [7.],\n",
              "        [6.],\n",
              "        [4.],\n",
              "        [2.],\n",
              "        [5.]])"
            ]
          },
          "metadata": {
            "tags": []
          },
          "execution_count": 23
        }
      ]
    },
    {
      "cell_type": "code",
      "metadata": {
        "id": "nXYijDb6NXOT",
        "colab_type": "code",
        "colab": {
          "base_uri": "https://localhost:8080/",
          "height": 34
        },
        "outputId": "767c3dfc-5928-418e-a5c4-dc03a84ec044"
      },
      "source": [
        "b.view((1, -1))"
      ],
      "execution_count": 24,
      "outputs": [
        {
          "output_type": "execute_result",
          "data": {
            "text/plain": [
              "tensor([[1., 2., 3., 4., 5., 2., 4., 7., 6., 4., 2., 5.]])"
            ]
          },
          "metadata": {
            "tags": []
          },
          "execution_count": 24
        }
      ]
    },
    {
      "cell_type": "markdown",
      "metadata": {
        "id": "leqNGiMANuoQ",
        "colab_type": "text"
      },
      "source": [
        "I think I love the `view` method.\n",
        "\n",
        "\n",
        "You can use the dimension of another tensor and make a given tensor resemble the\n",
        "dimension of that tensor without affecting the actual dimensions of either of them by using the `view_as` function."
      ]
    },
    {
      "cell_type": "code",
      "metadata": {
        "id": "k18ZvoPiRW9W",
        "colab_type": "code",
        "colab": {
          "base_uri": "https://localhost:8080/",
          "height": 51
        },
        "outputId": "e037fa89-4e6f-4794-bc92-da3b6da62244"
      },
      "source": [
        "x = torch.Tensor([[1, 2, 3],[4, 5, 6]]); x"
      ],
      "execution_count": 26,
      "outputs": [
        {
          "output_type": "execute_result",
          "data": {
            "text/plain": [
              "tensor([[1., 2., 3.],\n",
              "        [4., 5., 6.]])"
            ]
          },
          "metadata": {
            "tags": []
          },
          "execution_count": 26
        }
      ]
    },
    {
      "cell_type": "code",
      "metadata": {
        "id": "NPRkXpSXRg5S",
        "colab_type": "code",
        "colab": {
          "base_uri": "https://localhost:8080/",
          "height": 34
        },
        "outputId": "01017e7b-490f-4134-d208-6c38ce92490c"
      },
      "source": [
        "y =  torch.Tensor([4,5,6,7,8,9]);y"
      ],
      "execution_count": 27,
      "outputs": [
        {
          "output_type": "execute_result",
          "data": {
            "text/plain": [
              "tensor([4., 5., 6., 7., 8., 9.])"
            ]
          },
          "metadata": {
            "tags": []
          },
          "execution_count": 27
        }
      ]
    },
    {
      "cell_type": "code",
      "metadata": {
        "id": "x035DTz3RwOb",
        "colab_type": "code",
        "colab": {
          "base_uri": "https://localhost:8080/",
          "height": 51
        },
        "outputId": "eb22c7b5-aad7-4b93-fcd1-2a9601168077"
      },
      "source": [
        "y.view_as(x)"
      ],
      "execution_count": 28,
      "outputs": [
        {
          "output_type": "execute_result",
          "data": {
            "text/plain": [
              "tensor([[4., 5., 6.],\n",
              "        [7., 8., 9.]])"
            ]
          },
          "metadata": {
            "tags": []
          },
          "execution_count": 28
        }
      ]
    },
    {
      "cell_type": "code",
      "metadata": {
        "id": "GKBLAnRsR3_w",
        "colab_type": "code",
        "colab": {
          "base_uri": "https://localhost:8080/",
          "height": 34
        },
        "outputId": "30ce9711-d0c5-4268-9feb-68a229db098a"
      },
      "source": [
        "x.view_as(y)"
      ],
      "execution_count": 29,
      "outputs": [
        {
          "output_type": "execute_result",
          "data": {
            "text/plain": [
              "tensor([1., 2., 3., 4., 5., 6.])"
            ]
          },
          "metadata": {
            "tags": []
          },
          "execution_count": 29
        }
      ]
    },
    {
      "cell_type": "code",
      "metadata": {
        "id": "qUEORttyR8YU",
        "colab_type": "code",
        "colab": {
          "base_uri": "https://localhost:8080/",
          "height": 51
        },
        "outputId": "ae59cc36-f208-472d-e4c9-29c871c766e5"
      },
      "source": [
        "x,y"
      ],
      "execution_count": 30,
      "outputs": [
        {
          "output_type": "execute_result",
          "data": {
            "text/plain": [
              "(tensor([[1., 2., 3.],\n",
              "         [4., 5., 6.]]), tensor([4., 5., 6., 7., 8., 9.]))"
            ]
          },
          "metadata": {
            "tags": []
          },
          "execution_count": 30
        }
      ]
    },
    {
      "cell_type": "code",
      "metadata": {
        "id": "wS2Nz8WmR_UE",
        "colab_type": "code",
        "colab": {}
      },
      "source": [
        ""
      ],
      "execution_count": 0,
      "outputs": []
    }
  ]
}