{
  "nbformat": 4,
  "nbformat_minor": 0,
  "metadata": {
    "colab": {
      "name": "0.4_Some_Arrays.ipynb",
      "provenance": [],
      "authorship_tag": "ABX9TyMIs+NIwhzLOme8XJ2+oLko",
      "include_colab_link": true
    },
    "kernelspec": {
      "name": "python3",
      "display_name": "Python 3"
    },
    "accelerator": "GPU"
  },
  "cells": [
    {
      "cell_type": "markdown",
      "metadata": {
        "id": "view-in-github",
        "colab_type": "text"
      },
      "source": [
        "<a href=\"https://colab.research.google.com/github/RickyMacharm/PyTorch/blob/master/0_4_Some_Arrays.ipynb\" target=\"_parent\"><img src=\"https://colab.research.google.com/assets/colab-badge.svg\" alt=\"Open In Colab\"/></a>"
      ]
    },
    {
      "cell_type": "markdown",
      "metadata": {
        "id": "8H5rUGKuUXg9",
        "colab_type": "text"
      },
      "source": [
        "Lets consider following linear regression equation for our neural network:\n",
        "$$y = wx + b$$\n",
        "\n",
        "$x$ represents training data\n",
        "\n",
        "$y$ represents target variables\n",
        "\n",
        "$w$ the slope\n",
        "\n",
        "$b$ the the intercept, the value of $y$ when $x = 0$."
      ]
    },
    {
      "cell_type": "code",
      "metadata": {
        "id": "rz91XEC9XDOw",
        "colab_type": "code",
        "colab": {
          "base_uri": "https://localhost:8080/",
          "height": 34
        },
        "outputId": "fe468c6e-98aa-4bc4-b402-4adf99cddbd4"
      },
      "source": [
        "import torch\n",
        "print('Pytorch Version:', torch.__version__)"
      ],
      "execution_count": 13,
      "outputs": [
        {
          "output_type": "stream",
          "text": [
            "Pytorch Version: 1.4.0\n"
          ],
          "name": "stdout"
        }
      ]
    },
    {
      "cell_type": "markdown",
      "metadata": {
        "id": "uK3_WmyGXj9U",
        "colab_type": "text"
      },
      "source": [
        "### **Scalar (0-D tensors)**\n",
        "A tensor containing only one element is called a scalar. It will generally be of type\n",
        "`float` or `LongTensor`. At the time of writing, PyTorch does not have a special\n",
        "tensor with zero dimensions. So, we use a one-dimension tensor with one element, as\n",
        "follows:\n",
        "```python\n",
        "x = torch.rand(10)\n",
        "x.size()\n",
        "```\n",
        "**Output**\n",
        "\n",
        "```python\n",
        "torch.Size([10])\n",
        "```\n",
        "### **Vectors (1-D tensors)**\n",
        "A `vector` is simply an array of elements. For example, we can use a vector to store the\n",
        "average temperature for the last week:\n",
        "```python\n",
        "temp = torch.FloatTensor([23, 24, 24.5,26,27.2,23.0])\n",
        "temp.size()\n",
        "```\n",
        "**output**\n",
        "```python\n",
        "torch.Size([6])\n",
        "```\n",
        "### **Matrix (2-D tensors)**\n",
        "Most of the structured data is represented in the form of tables or matrices. We will use a\n",
        "dataset called `Boston House Prices`, which is readily available in the Python scikit-learn\n",
        "machine learning library. The dataset is a `numpy` array consisting of $506$ samples or rows\n",
        "and $13$ features representing each sample. Torch provides a utility function called\n",
        "`from_numpy()`, which converts a `numpy` array into a `torch` tensor. The shape of the\n",
        "resulting tensor is $506$ rows x $13$ columns:\n",
        "\n"
      ]
    },
    {
      "cell_type": "code",
      "metadata": {
        "id": "mLuBMK_nTxar",
        "colab_type": "code",
        "colab": {
          "base_uri": "https://localhost:8080/",
          "height": 34
        },
        "outputId": "cbc71010-9dd4-4153-f956-9b05dfa581ba"
      },
      "source": [
        "from sklearn.datasets import load_boston\n",
        "boston = load_boston()\n",
        "print(boston.data.shape)"
      ],
      "execution_count": 2,
      "outputs": [
        {
          "output_type": "stream",
          "text": [
            "(506, 13)\n"
          ],
          "name": "stdout"
        }
      ]
    },
    {
      "cell_type": "code",
      "metadata": {
        "id": "G0UmYXH8W81f",
        "colab_type": "code",
        "colab": {
          "base_uri": "https://localhost:8080/",
          "height": 51
        },
        "outputId": "02d281e5-bfab-469b-9f41-2bd417e3d1d6"
      },
      "source": [
        "boston.feature_names"
      ],
      "execution_count": 3,
      "outputs": [
        {
          "output_type": "execute_result",
          "data": {
            "text/plain": [
              "array(['CRIM', 'ZN', 'INDUS', 'CHAS', 'NOX', 'RM', 'AGE', 'DIS', 'RAD',\n",
              "       'TAX', 'PTRATIO', 'B', 'LSTAT'], dtype='<U7')"
            ]
          },
          "metadata": {
            "tags": []
          },
          "execution_count": 3
        }
      ]
    },
    {
      "cell_type": "code",
      "metadata": {
        "id": "1m8KjfF9cEeo",
        "colab_type": "code",
        "colab": {
          "base_uri": "https://localhost:8080/",
          "height": 34
        },
        "outputId": "cd6a8aad-503d-40ea-beed-4676ab396c11"
      },
      "source": [
        "boston_tensor = torch.from_numpy(boston.data)\n",
        "boston_tensor.size()"
      ],
      "execution_count": 4,
      "outputs": [
        {
          "output_type": "execute_result",
          "data": {
            "text/plain": [
              "torch.Size([506, 13])"
            ]
          },
          "metadata": {
            "tags": []
          },
          "execution_count": 4
        }
      ]
    },
    {
      "cell_type": "code",
      "metadata": {
        "id": "UhKwBQFMcOjN",
        "colab_type": "code",
        "colab": {
          "base_uri": "https://localhost:8080/",
          "height": 119
        },
        "outputId": "9db17385-3602-497b-83d6-ddca620e34fe"
      },
      "source": [
        "boston_tensor[:2]"
      ],
      "execution_count": 5,
      "outputs": [
        {
          "output_type": "execute_result",
          "data": {
            "text/plain": [
              "tensor([[6.3200e-03, 1.8000e+01, 2.3100e+00, 0.0000e+00, 5.3800e-01, 6.5750e+00,\n",
              "         6.5200e+01, 4.0900e+00, 1.0000e+00, 2.9600e+02, 1.5300e+01, 3.9690e+02,\n",
              "         4.9800e+00],\n",
              "        [2.7310e-02, 0.0000e+00, 7.0700e+00, 0.0000e+00, 4.6900e-01, 6.4210e+00,\n",
              "         7.8900e+01, 4.9671e+00, 2.0000e+00, 2.4200e+02, 1.7800e+01, 3.9690e+02,\n",
              "         9.1400e+00]], dtype=torch.float64)"
            ]
          },
          "metadata": {
            "tags": []
          },
          "execution_count": 5
        }
      ]
    },
    {
      "cell_type": "code",
      "metadata": {
        "id": "n-uNmznKcSS7",
        "colab_type": "code",
        "colab": {
          "base_uri": "https://localhost:8080/",
          "height": 204
        },
        "outputId": "fe86490c-c406-4f95-98e4-9d2e495abe70"
      },
      "source": [
        "boston_tensor[:10,:5]"
      ],
      "execution_count": 6,
      "outputs": [
        {
          "output_type": "execute_result",
          "data": {
            "text/plain": [
              "tensor([[6.3200e-03, 1.8000e+01, 2.3100e+00, 0.0000e+00, 5.3800e-01],\n",
              "        [2.7310e-02, 0.0000e+00, 7.0700e+00, 0.0000e+00, 4.6900e-01],\n",
              "        [2.7290e-02, 0.0000e+00, 7.0700e+00, 0.0000e+00, 4.6900e-01],\n",
              "        [3.2370e-02, 0.0000e+00, 2.1800e+00, 0.0000e+00, 4.5800e-01],\n",
              "        [6.9050e-02, 0.0000e+00, 2.1800e+00, 0.0000e+00, 4.5800e-01],\n",
              "        [2.9850e-02, 0.0000e+00, 2.1800e+00, 0.0000e+00, 4.5800e-01],\n",
              "        [8.8290e-02, 1.2500e+01, 7.8700e+00, 0.0000e+00, 5.2400e-01],\n",
              "        [1.4455e-01, 1.2500e+01, 7.8700e+00, 0.0000e+00, 5.2400e-01],\n",
              "        [2.1124e-01, 1.2500e+01, 7.8700e+00, 0.0000e+00, 5.2400e-01],\n",
              "        [1.7004e-01, 1.2500e+01, 7.8700e+00, 0.0000e+00, 5.2400e-01]],\n",
              "       dtype=torch.float64)"
            ]
          },
          "metadata": {
            "tags": []
          },
          "execution_count": 6
        }
      ]
    },
    {
      "cell_type": "markdown",
      "metadata": {
        "id": "rXIQ71RccwwM",
        "colab_type": "text"
      },
      "source": [
        "### **3-D tensors**\n",
        "When we add multiple matrices together, we get a 3-D tensor. 3-D tensors are used to\n",
        "represent data-like images. Images can be represented as numbers in a matrix, which are\n",
        "stacked together. An example of an image shape is $224$, $224$, $3$ where the first index\n",
        "represents height, the second represents width, and the third represents a channel (RGB).\n",
        "Let's see how a computer sees a panda, using the next code snippet:"
      ]
    },
    {
      "cell_type": "code",
      "metadata": {
        "id": "XV8uxefxiqnn",
        "colab_type": "code",
        "colab": {
          "base_uri": "https://localhost:8080/",
          "height": 200
        },
        "outputId": "8ff146e1-7c47-4ad0-ec64-8ce7a76733b1"
      },
      "source": [
        "import requests\n",
        "import IPython.display as Disp\n",
        "url = 'https://drive.google.com/uc?id=1K_Y6O_4UIsxff2PEC--zGk5dpEPIiKpD'\n",
        "pic = Disp.Image(requests.get(url).content);pic"
      ],
      "execution_count": 7,
      "outputs": [
        {
          "output_type": "execute_result",
          "data": {
            "image/jpeg": "[encoded data removed]",
            "text/plain": [
              "<IPython.core.display.Image object>"
            ]
          },
          "metadata": {
            "tags": []
          },
          "execution_count": 7
        }
      ]
    },
    {
      "cell_type": "code",
      "metadata": {
        "id": "4WTkHQEEqTAo",
        "colab_type": "code",
        "colab": {
          "base_uri": "https://localhost:8080/",
          "height": 34
        },
        "outputId": "25bbc154-4721-4d36-9347-698b0e10c1b5"
      },
      "source": [
        "import PIL\n",
        "print('Pillow Version:', PIL.__version__)"
      ],
      "execution_count": 8,
      "outputs": [
        {
          "output_type": "stream",
          "text": [
            "Pillow Version: 7.0.0\n"
          ],
          "name": "stdout"
        }
      ]
    },
    {
      "cell_type": "code",
      "metadata": {
        "id": "sj9Kz6FvsI3k",
        "colab_type": "code",
        "colab": {
          "base_uri": "https://localhost:8080/",
          "height": 197
        },
        "outputId": "1a756223-3964-4674-a138-a75b10aab377"
      },
      "source": [
        "# convert image to numpy array\n",
        "import numpy as np\n",
        "data = np.array(pic, dtype=np.float32)\n",
        "print(type(data))"
      ],
      "execution_count": 24,
      "outputs": [
        {
          "output_type": "error",
          "ename": "TypeError",
          "evalue": "ignored",
          "traceback": [
            "\u001b[0;31m---------------------------------------------------------------------------\u001b[0m",
            "\u001b[0;31mTypeError\u001b[0m                                 Traceback (most recent call last)",
            "\u001b[0;32m<ipython-input-24-74bf38578854>\u001b[0m in \u001b[0;36m<module>\u001b[0;34m()\u001b[0m\n\u001b[1;32m      1\u001b[0m \u001b[0;32mimport\u001b[0m \u001b[0mnumpy\u001b[0m \u001b[0;32mas\u001b[0m \u001b[0mnp\u001b[0m\u001b[0;34m\u001b[0m\u001b[0;34m\u001b[0m\u001b[0m\n\u001b[0;32m----> 2\u001b[0;31m \u001b[0mdata\u001b[0m \u001b[0;34m=\u001b[0m \u001b[0mnp\u001b[0m\u001b[0;34m.\u001b[0m\u001b[0marray\u001b[0m\u001b[0;34m(\u001b[0m\u001b[0mpic\u001b[0m\u001b[0;34m,\u001b[0m \u001b[0mdtype\u001b[0m\u001b[0;34m=\u001b[0m\u001b[0mnp\u001b[0m\u001b[0;34m.\u001b[0m\u001b[0mfloat32\u001b[0m\u001b[0;34m)\u001b[0m\u001b[0;34m\u001b[0m\u001b[0;34m\u001b[0m\u001b[0m\n\u001b[0m\u001b[1;32m      3\u001b[0m \u001b[0mprint\u001b[0m\u001b[0;34m(\u001b[0m\u001b[0mtype\u001b[0m\u001b[0;34m(\u001b[0m\u001b[0mdata\u001b[0m\u001b[0;34m)\u001b[0m\u001b[0;34m)\u001b[0m\u001b[0;34m\u001b[0m\u001b[0;34m\u001b[0m\u001b[0m\n",
            "\u001b[0;31mTypeError\u001b[0m: float() argument must be a string or a number, not 'Image'"
          ]
        }
      ]
    },
    {
      "cell_type": "code",
      "metadata": {
        "id": "hzTLq2A6AjwD",
        "colab_type": "code",
        "colab": {}
      },
      "source": [
        "data.resize((224,224))"
      ],
      "execution_count": 0,
      "outputs": []
    },
    {
      "cell_type": "code",
      "metadata": {
        "id": "2IQa52kbqfbd",
        "colab_type": "code",
        "colab": {}
      },
      "source": [
        "# load and display an image with Matplotlib\n",
        "from matplotlib import image\n",
        "from matplotlib import pyplot"
      ],
      "execution_count": 0,
      "outputs": []
    },
    {
      "cell_type": "code",
      "metadata": {
        "id": "_5OR6NT2rA-I",
        "colab_type": "code",
        "colab": {
          "base_uri": "https://localhost:8080/",
          "height": 51
        },
        "outputId": "5959a3ee-195d-4280-ae98-e67c175c8bf6"
      },
      "source": [
        "print(data.dtype)\n",
        "print(data.shape)"
      ],
      "execution_count": 21,
      "outputs": [
        {
          "output_type": "stream",
          "text": [
            "object\n",
            "(224, 224)\n"
          ],
          "name": "stdout"
        }
      ]
    },
    {
      "cell_type": "code",
      "metadata": {
        "id": "1Hw9Tdp2cVGo",
        "colab_type": "code",
        "colab": {}
      },
      "source": [
        "from PIL import Image\n",
        "\n",
        "panda = np.array(Image.open(pic).resize((224,224)))\n",
        "panda_tensor = torch.from_numpy(panda)\n",
        "panda_tensor.size()"
      ],
      "execution_count": 0,
      "outputs": []
    },
    {
      "cell_type": "code",
      "metadata": {
        "id": "w6Eb2XG6eOUN",
        "colab_type": "code",
        "colab": {
          "base_uri": "https://localhost:8080/",
          "height": 163
        },
        "outputId": "174ecf85-1549-43d6-9841-c921cb9c8837"
      },
      "source": [
        "panda_tensor = torch.Tensor(pic)"
      ],
      "execution_count": 26,
      "outputs": [
        {
          "output_type": "error",
          "ename": "TypeError",
          "evalue": "ignored",
          "traceback": [
            "\u001b[0;31m---------------------------------------------------------------------------\u001b[0m",
            "\u001b[0;31mTypeError\u001b[0m                                 Traceback (most recent call last)",
            "\u001b[0;32m<ipython-input-26-fb6935be0c78>\u001b[0m in \u001b[0;36m<module>\u001b[0;34m()\u001b[0m\n\u001b[0;32m----> 1\u001b[0;31m \u001b[0mpanda_tensor\u001b[0m \u001b[0;34m=\u001b[0m \u001b[0mtorch\u001b[0m\u001b[0;34m.\u001b[0m\u001b[0mTensor\u001b[0m\u001b[0;34m(\u001b[0m\u001b[0mpic\u001b[0m\u001b[0;34m)\u001b[0m\u001b[0;34m\u001b[0m\u001b[0;34m\u001b[0m\u001b[0m\n\u001b[0m",
            "\u001b[0;31mTypeError\u001b[0m: new(): data must be a sequence (got Image)"
          ]
        }
      ]
    },
    {
      "cell_type": "code",
      "metadata": {
        "id": "3RHZiQBokqzh",
        "colab_type": "code",
        "colab": {}
      },
      "source": [
        ""
      ],
      "execution_count": 0,
      "outputs": []
    }
  ]
}